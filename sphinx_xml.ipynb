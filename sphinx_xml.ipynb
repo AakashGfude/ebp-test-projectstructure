{
 "cells": [
  {
   "cell_type": "markdown",
   "metadata": {},
   "source": [
    "# Files"
   ]
  },
  {
   "cell_type": "code",
   "execution_count": 3,
   "metadata": {},
   "outputs": [],
   "source": [
    "import pickle\n",
    "jupyterbook = pickle.load(open(\"files/jupyterbook/_build/.doctrees/intro.doctree\", \"rb\"))\n",
    "bookpattern = pickle.load(open(\"files/bookpattern/_build/.doctrees/chapter1.doctree\", \"rb\"))"
   ]
  },
  {
   "cell_type": "code",
   "execution_count": 4,
   "metadata": {},
   "outputs": [
    {
     "name": "stdout",
     "output_type": "stream",
     "text": [
      "<document source=\"/Users/matthewmckay/repos-collab/ebp-test-projectstructure/files/jupyterbook/intro.md\">\n",
      "    <section ids=\"book-title\" names=\"book\\ title\">\n",
      "        <title>\n",
      "            Book Title\n",
      "        <paragraph>\n",
      "            This is the frontmatter\n",
      "        <compound classes=\"toctree-wrapper\">\n",
      "            <toctree caption=\"True\" entries=\"(None,\\ 'chapter1') ('Chapter2\\ Alternate\\ Title',\\ 'chapter2') (None,\\ 'chapter3') (None,\\ 'references')\" glob=\"False\" hidden=\"True\" includefiles=\"chapter1 chapter2 chapter3 references\" includehidden=\"False\" maxdepth=\"-1\" numbered=\"999\" parent=\"intro\" rawentries=\"Chapter2\\ Alternate\\ Title\" titlesonly=\"True\">\n",
      "\n"
     ]
    }
   ],
   "source": [
    "# JupyterBook\n",
    "print(jupyterbook.pformat())"
   ]
  },
  {
   "cell_type": "code",
   "execution_count": 5,
   "metadata": {},
   "outputs": [
    {
     "name": "stdout",
     "output_type": "stream",
     "text": [
      "<document source=\"/Users/matthewmckay/repos-collab/ebp-test-projectstructure/files/bookpattern/chapter1.md\">\n",
      "    <section ids=\"chapter-1\" names=\"chapter\\ 1\">\n",
      "        <title>\n",
      "            Chapter 1\n",
      "        <paragraph>\n",
      "            This is the first Chapter\n",
      "        <section ids=\"chapter1-section1\" names=\"chapter1,section1\">\n",
      "            <title>\n",
      "                Chapter1,Section1\n",
      "            <paragraph>\n",
      "                This is the first sectioni in chapter 1\n",
      "        <section ids=\"chapter1-section2\" names=\"chapter1,section2\">\n",
      "            <title>\n",
      "                Chapter1,Section2\n",
      "            <paragraph>\n",
      "                This is the second section in chapter 1\n",
      "            <section ids=\"chapter1-section2-subsection1\" names=\"chapter1,section2,subsection1\">\n",
      "                <title>\n",
      "                    Chapter1,Section2,SubSection1\n",
      "                <paragraph>\n",
      "                    This is a subsection in Section 2 of Chapter 1\n",
      "        <section ids=\"chapter1-section3\" names=\"chapter1,\\ section3\">\n",
      "            <title>\n",
      "                Chapter1, Section3\n",
      "            <paragraph>\n",
      "                This is section 3 of Chapter 1\n",
      "            <compound classes=\"toctree-wrapper\">\n",
      "                <toctree caption=\"True\" entries=\"('Chapter2\\ Alternate\\ Title',\\ 'chapter2') (None,\\ 'chapter3') (None,\\ 'references')\" glob=\"False\" hidden=\"True\" includefiles=\"chapter2 chapter3 references\" includehidden=\"False\" maxdepth=\"-1\" numbered=\"999\" parent=\"chapter1\" rawentries=\"Chapter2\\ Alternate\\ Title\" titlesonly=\"True\">\n",
      "\n"
     ]
    }
   ],
   "source": [
    "# BookPattern\n",
    "print(bookpattern.pformat())"
   ]
  },
  {
   "cell_type": "code",
   "execution_count": 8,
   "metadata": {},
   "outputs": [
    {
     "name": "stdout",
     "output_type": "stream",
     "text": [
      "<?xml version=\"1.0\" ?>\n",
      "<document source=\"/Users/matthewmckay/repos-collab/ebp-test-projectstructure/files/jupyterbook/chapter1.md\">\n",
      "\t<section ids=\"chapter-1\" names=\"chapter\\ 1\">\n",
      "\t\t<title>Chapter 1</title>\n",
      "\t\t<paragraph>This is the first Chapter</paragraph>\n",
      "\t\t<section ids=\"chapter1-section1\" names=\"chapter1,section1\">\n",
      "\t\t\t<title>Chapter1,Section1</title>\n",
      "\t\t\t<paragraph>This is the first sectioni in chapter 1</paragraph>\n",
      "\t\t</section>\n",
      "\t\t<section ids=\"chapter1-section2\" names=\"chapter1,section2\">\n",
      "\t\t\t<title>Chapter1,Section2</title>\n",
      "\t\t\t<paragraph>This is the second section in chapter 1</paragraph>\n",
      "\t\t\t<section ids=\"chapter1-section2-subsection1\" names=\"chapter1,section2,subsection1\">\n",
      "\t\t\t\t<title>Chapter1,Section2,SubSection1</title>\n",
      "\t\t\t\t<paragraph>This is a subsection in Section 2 of Chapter 1</paragraph>\n",
      "\t\t\t</section>\n",
      "\t\t</section>\n",
      "\t\t<section ids=\"chapter1-section3\" names=\"chapter1,\\ section3\">\n",
      "\t\t\t<title>Chapter1, Section3</title>\n",
      "\t\t\t<paragraph>This is section 3 of Chapter 1</paragraph>\n",
      "\t\t</section>\n",
      "\t</section>\n",
      "</document>\n",
      "\n"
     ]
    }
   ],
   "source": [
    "print(doc.asdom().toprettyxml())"
   ]
  },
  {
   "cell_type": "markdown",
   "metadata": {},
   "source": [
    "# Parts and Chapters"
   ]
  },
  {
   "cell_type": "code",
   "execution_count": 7,
   "metadata": {},
   "outputs": [],
   "source": [
    "jupyterbook = pickle.load(open(\"parts_chapters/jupyterbook/_build/.doctrees/intro.doctree\", \"rb\"))\n",
    "bookpattern = pickle.load(open(\"parts_chapters/bookpattern/_build/.doctrees/intro.doctree\", \"rb\"))"
   ]
  },
  {
   "cell_type": "code",
   "execution_count": 9,
   "metadata": {},
   "outputs": [
    {
     "name": "stdout",
     "output_type": "stream",
     "text": [
      "<document source=\"/Users/matthewmckay/repos-collab/ebp-test-projectstructure/parts_chapters/jupyterbook/intro.md\">\n",
      "    <section ids=\"intro\" names=\"intro\">\n",
      "        <title>\n",
      "            Intro\n",
      "        <paragraph>\n",
      "            This is the intro\n",
      "        <compound classes=\"toctree-wrapper\">\n",
      "            <toctree caption=\"part1\" entries=\"(None,\\ 'part1/chapter1') (None,\\ 'part1/chapter2')\" glob=\"False\" hidden=\"True\" includefiles=\"part1/chapter1 part1/chapter2\" includehidden=\"False\" maxdepth=\"-1\" numbered=\"999\" parent=\"intro\" rawcaption=\"part1\" rawentries=\"\" titlesonly=\"True\">\n",
      "        <compound classes=\"toctree-wrapper\">\n",
      "            <toctree caption=\"part2\" entries=\"(None,\\ 'part2/chapter1')\" glob=\"False\" hidden=\"True\" includefiles=\"part2/chapter1\" includehidden=\"False\" maxdepth=\"-1\" numbered=\"999\" parent=\"intro\" rawcaption=\"part2\" rawentries=\"\" titlesonly=\"True\">\n",
      "\n"
     ]
    }
   ],
   "source": [
    "# JupyterBook\n",
    "print(jupyterbook.pformat())"
   ]
  },
  {
   "cell_type": "code",
   "execution_count": 10,
   "metadata": {},
   "outputs": [
    {
     "name": "stdout",
     "output_type": "stream",
     "text": [
      "<document source=\"/Users/matthewmckay/repos-collab/ebp-test-projectstructure/parts_chapters/bookpattern/intro.md\">\n",
      "    <section ids=\"introduction\" names=\"introduction\">\n",
      "        <title>\n",
      "            Introduction\n",
      "        <paragraph>\n",
      "            This is the introduction\n",
      "        <compound classes=\"toctree-wrapper\">\n",
      "            <toctree caption=\"part1\" entries=\"(None,\\ 'part1/chapter1') (None,\\ 'part1/chapter2')\" glob=\"False\" hidden=\"True\" includefiles=\"part1/chapter1 part1/chapter2\" includehidden=\"False\" maxdepth=\"-1\" numbered=\"999\" parent=\"intro\" rawcaption=\"part1\" rawentries=\"\" titlesonly=\"True\">\n",
      "        <compound classes=\"toctree-wrapper\">\n",
      "            <toctree caption=\"part2\" entries=\"(None,\\ 'part2/chapter3')\" glob=\"False\" hidden=\"True\" includefiles=\"part2/chapter3\" includehidden=\"False\" maxdepth=\"-1\" numbered=\"999\" parent=\"intro\" rawcaption=\"part2\" rawentries=\"\" titlesonly=\"True\">\n",
      "\n"
     ]
    }
   ],
   "source": [
    "# BookPattern\n",
    "print(bookpattern.pformat())"
   ]
  },
  {
   "cell_type": "code",
   "execution_count": null,
   "metadata": {},
   "outputs": [],
   "source": []
  }
 ],
 "metadata": {
  "kernelspec": {
   "display_name": "Python 3",
   "language": "python",
   "name": "python3"
  },
  "language_info": {
   "codemirror_mode": {
    "name": "ipython",
    "version": 3
   },
   "file_extension": ".py",
   "mimetype": "text/x-python",
   "name": "python",
   "nbconvert_exporter": "python",
   "pygments_lexer": "ipython3",
   "version": "3.7.7"
  }
 },
 "nbformat": 4,
 "nbformat_minor": 4
}
